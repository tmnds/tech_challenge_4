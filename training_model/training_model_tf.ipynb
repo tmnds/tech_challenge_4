{
 "cells": [
  {
   "cell_type": "code",
   "execution_count": null,
   "id": "977008e9",
   "metadata": {},
   "outputs": [],
   "source": [
    "import yfinance as yf\n",
    "import pandas as pd\n",
    "\n",
    "def create_df_for_multi_companies(\n",
    "        raw_data_multiindex:pd.MultiIndex, \n",
    "        stock_var:str, \n",
    "        companies:list[str]):\n",
    "    \n",
    "    raw_values = {}\n",
    "    for company in companies:\n",
    "        # Transform MultiIndex DF into SingleIndex DF for each company with all prices (Open, Close... Adj. Close)\n",
    "        raw_data_by_company = raw_data_multiindex.xs(key=company, level='Ticker', axis=1, drop_level=False)\n",
    "        # Grab only the Datetime and the desired price (e.g., colums -> [Datetime | Open])\n",
    "        raw_data_series = raw_data_by_company[(stock_var,company)]\n",
    "        # Make a dictionary of type {company[x] : [Open Values 0, 1, ... N] ... }\n",
    "        raw_values[company] = raw_data_series.values\n",
    "    # Create 'df' Dataframe only with \"Datetime\" Column\n",
    "    df = pd.DataFrame({'Datetime':raw_data_series.index})\n",
    "    # Append all columns with values for each company, resulting in [Datetime | Company_values[x] ...]\n",
    "    df = df.assign(**raw_values)\n",
    "    return df\n",
    "\n",
    "def get_finance_df(\n",
    "        companies:str|list[str], \n",
    "        start_date:str, \n",
    "        end_date:str, \n",
    "        stock_var:str='Adj Close') -> pd.DataFrame:\n",
    "    \n",
    "    try:\n",
    "        # In case companies is a string, transform into a list of 1 object, like: ['company']\n",
    "        if not isinstance(companies,list):\n",
    "            companies:list[str] = [companies]\n",
    "        \n",
    "        # Download data using yfinance\n",
    "        raw_data_multiindex:pd.MultiIndex = yf.download(tickers=companies, start=start_date, end=end_date)\n",
    "\n",
    "        # Transform the raw data into a suitable DF\n",
    "        df = create_df_for_multi_companies(raw_data_multiindex, stock_var, companies)\n",
    "\n",
    "        return df\n",
    "    \n",
    "    except:\n",
    "            Exception(\"Unexpected error: something wrong occurred while creating the finance DF\")\n",
    "\n",
    "\n",
    "\n",
    "def split_train_test_valid_df(df, horizon_pred=1, seq_length=30, size_train_percent=0.75, size_test_percent=0.2):\n",
    "    N = len(df)-seq_length-horizon_pred\n",
    "    Ntrain = int(size_train_percent*N)\n",
    "    Ntest = int(size_test_percent*N)\n",
    "    \n",
    "    df_train = df.loc[0:Ntrain]\n",
    "    df_test = df.loc[Ntrain+1:Ntrain+Ntest]\n",
    "    df_valid = df.loc[Ntrain+Ntest+1:]\n",
    "\n",
    "    Nvalid = len(df_valid)\n",
    "    if (Nvalid < (seq_length+horizon_pred+1)):\n",
    "        raise ValueError(f\"\"\"At least (seq_length+horizon_pred+1) samples are needed for validation. You have seq_length={seq_length}, horizon_pred={horizon_pred} and Nvalid={Nvalid} samples, with Ntrain={Ntrain}, Ntest={Ntest} and N={N}. Try changing the prediction horizon, the sequence/window length, or increasing the number of samples\"\"\")\n",
    "\n",
    "    return (df_train, df_test, df_valid)\n",
    "\n",
    "def shift_drop_na_in_xy(df, company_inputs, company_output, horizon_pred):\n",
    "    new_df = pd.concat([df[company_inputs], df[company_output].rename(\"target\").shift(-horizon_pred)],axis='columns').dropna()\n",
    "    X = new_df[company_inputs].values\n",
    "    y = new_df[\"target\"].values\n",
    "    return X, y"
   ]
  },
  {
   "cell_type": "code",
   "execution_count": 373,
   "id": "86196a09",
   "metadata": {},
   "outputs": [],
   "source": [
    "train_ratio = 0.8\n",
    "test_ratio = 0.15\n",
    "n_epochs = 150\n",
    "loss_fn = 'mse'\n",
    "\n",
    "horizon_pred = 1\n",
    "seq_length = 30\n",
    "\n",
    "# batch_size = 30\n",
    "# units_layer1 = 250\n",
    "# activation_layer1 = 'relu'\n",
    "# dropout_layer1 = 0.2\n",
    "units_layer2 = None\n",
    "# activation_layer2 = None if units_layer2 is None else 'relu'\n",
    "# dropout_layer2 = None if units_layer2 is None else 0.1\n",
    "# activation_output = 'relu'\n",
    "\n",
    "param_grid = {\n",
    "    'batch_size' : [30],\n",
    "    'units_layer1' : [250],\n",
    "    'activation_layer1' : ['relu'],\n",
    "    'dropout_layer1' : [0.2],\n",
    "    'units_layer2' : [None],\n",
    "    'activation_layer2' : [None if units_layer2 is None else 'relu'],\n",
    "    'dropout_layer2' : [None if units_layer2 is None else 0.1],\n",
    "    'activation_output' : ['relu'],\n",
    "    'optim' : ['adam']\n",
    "}"
   ]
  },
  {
   "cell_type": "code",
   "execution_count": 374,
   "id": "8409b96a-3190-45d4-84e2-e0082a583b72",
   "metadata": {},
   "outputs": [
    {
     "name": "stderr",
     "output_type": "stream",
     "text": [
      "[*********************100%***********************]  1 of 1 completed"
     ]
    },
    {
     "name": "stdout",
     "output_type": "stream",
     "text": [
      "                      Datetime   PETR4.SA\n",
      "0    2017-01-02 00:00:00+00:00   4.705652\n",
      "1    2017-01-03 00:00:00+00:00   4.975281\n",
      "2    2017-01-04 00:00:00+00:00   4.975281\n",
      "3    2017-01-05 00:00:00+00:00   5.055527\n",
      "4    2017-01-06 00:00:00+00:00   5.026639\n",
      "...                        ...        ...\n",
      "1947 2024-10-23 00:00:00+00:00  35.660000\n",
      "1948 2024-10-24 00:00:00+00:00  35.900002\n",
      "1949 2024-10-25 00:00:00+00:00  36.150002\n",
      "1950 2024-10-28 00:00:00+00:00  36.090000\n",
      "1951 2024-10-29 00:00:00+00:00  36.009998\n",
      "\n",
      "[1952 rows x 2 columns]\n",
      "1\n"
     ]
    },
    {
     "name": "stderr",
     "output_type": "stream",
     "text": [
      "\n"
     ]
    }
   ],
   "source": [
    "# from feature_engineering import get_finance_df\n",
    "\n",
    "# Load dataset\n",
    "# company_inputs = ['PETR4.SA', 'BZ=F', '6L=F']\n",
    "# company_inputs = ['PETR4.SA', 'BZ=F']\n",
    "# company_inputs = ['PETR4.SA', '6L=F']\n",
    "company_inputs = ['PETR4.SA']\n",
    "company_output = 'PETR4.SA'\n",
    "stock_var = 'Adj Close'\n",
    "\n",
    "end_date = '2024-10-30' \n",
    "start_date = '2017-01-01'\n",
    "\n",
    "df = get_finance_df(company_inputs, start_date, end_date, stock_var)\n",
    "df = df.interpolate(method='linear')\n",
    "# df = df.fillna(0)\n",
    "# df.dropna()\n",
    "\n",
    "n_inputs = len(company_inputs)\n",
    "\n",
    "print(df)\n",
    "print(n_inputs)\n"
   ]
  },
  {
   "cell_type": "code",
   "execution_count": null,
   "id": "f68fc52a",
   "metadata": {},
   "outputs": [],
   "source": []
  },
  {
   "cell_type": "code",
   "execution_count": 375,
   "id": "aca1ffe7",
   "metadata": {},
   "outputs": [],
   "source": [
    "df_train, df_test, df_valid = split_train_test_valid_df(df=df, \n",
    "    horizon_pred=horizon_pred, seq_length=seq_length, \n",
    "    size_train_percent=train_ratio, size_test_percent=test_ratio\n",
    "    )"
   ]
  },
  {
   "cell_type": "code",
   "execution_count": 376,
   "id": "b1482513",
   "metadata": {},
   "outputs": [],
   "source": [
    "X_train, y_train = shift_drop_na_in_xy(df_train, company_inputs, company_output, horizon_pred=horizon_pred)\n",
    "X_test, y_test = shift_drop_na_in_xy(df_test, company_inputs, company_output, horizon_pred=horizon_pred)\n",
    "X_valid, y_valid = shift_drop_na_in_xy(df_valid, company_inputs, company_output, horizon_pred=horizon_pred)"
   ]
  },
  {
   "cell_type": "code",
   "execution_count": 377,
   "id": "556ed4b7",
   "metadata": {},
   "outputs": [
    {
     "data": {
      "text/plain": [
       "(array([[4.70565176],\n",
       "        [4.97528076],\n",
       "        [4.97528076]]),\n",
       " array([4.97528076, 4.97528076, 5.05552721]))"
      ]
     },
     "execution_count": 377,
     "metadata": {},
     "output_type": "execute_result"
    }
   ],
   "source": [
    "X_train[0:3], y_train[0:3]"
   ]
  },
  {
   "cell_type": "code",
   "execution_count": 378,
   "id": "a11b45ba",
   "metadata": {},
   "outputs": [],
   "source": [
    "# Import necessary libraries\n",
    "from sklearn.preprocessing import MinMaxScaler\n",
    "\n",
    "# Normalize the Price column\n",
    "scalerX = MinMaxScaler()\n",
    "scalery = MinMaxScaler()\n",
    "scaled_X_train = scalerX.fit_transform(X_train)\n",
    "scaled_y_train = scalery.fit_transform(y_train.reshape(-1, 1))\n",
    "\n",
    "scaled_X_test = scalerX.transform(X_test)\n",
    "scaled_y_test = scalery.transform(y_test.reshape(-1, 1))\n",
    "\n",
    "scaled_X_valid = scalerX.transform(X_valid)\n",
    "scaled_y_valid = scalery.transform(y_valid.reshape(-1, 1))\n",
    "\n",
    "from tensorflow.keras.preprocessing.sequence import TimeseriesGenerator\n",
    "\n",
    "# Initialize generator with multivariable input and single target\n",
    "generator_train = TimeseriesGenerator(scaled_X_train, scaled_y_train, length=seq_length, batch_size=batch_size)\n",
    "generator_test = TimeseriesGenerator(scaled_X_test, scaled_y_test, length=seq_length, batch_size=batch_size)\n",
    "generator_valid = TimeseriesGenerator(scaled_X_valid, scaled_y_valid, length=seq_length, batch_size=batch_size)\n"
   ]
  },
  {
   "cell_type": "code",
   "execution_count": 379,
   "id": "16b6c682",
   "metadata": {},
   "outputs": [
    {
     "data": {
      "text/plain": [
       "(array([[0.04786904],\n",
       "        [0.06118367],\n",
       "        [0.06118367],\n",
       "        ...,\n",
       "        [0.66548425],\n",
       "        [0.64331067],\n",
       "        [0.67892272]]),\n",
       " array([[0.06118367],\n",
       "        [0.06118367],\n",
       "        [0.06514634],\n",
       "        ...,\n",
       "        [0.64331067],\n",
       "        [0.67892272],\n",
       "        [0.68765784]]))"
      ]
     },
     "execution_count": 379,
     "metadata": {},
     "output_type": "execute_result"
    }
   ],
   "source": [
    "scaled_X_train, scaled_y_train"
   ]
  },
  {
   "cell_type": "code",
   "execution_count": 380,
   "id": "bbeef468",
   "metadata": {},
   "outputs": [],
   "source": [
    "Xgen_train, ygen_train = generator_train[0]"
   ]
  },
  {
   "cell_type": "code",
   "execution_count": 381,
   "id": "8a966102",
   "metadata": {},
   "outputs": [
    {
     "data": {
      "text/plain": [
       "(array([[4.70565176],\n",
       "        [4.97528076],\n",
       "        [4.97528076],\n",
       "        [5.05552721],\n",
       "        [5.02663946],\n",
       "        [4.92071199],\n",
       "        [4.96886015],\n",
       "        [5.02663946],\n",
       "        [5.10367441],\n",
       "        [5.03305769],\n",
       "        [5.05552721],\n",
       "        [5.07799625],\n",
       "        [5.068367  ],\n",
       "        [5.06194687],\n",
       "        [5.13577461],\n",
       "        [5.13256311],\n",
       "        [5.14861345],\n",
       "        [5.07157564],\n",
       "        [5.01379871],\n",
       "        [4.76342964],\n",
       "        [4.82120752],\n",
       "        [4.82120752],\n",
       "        [4.7794795 ],\n",
       "        [4.92392254],\n",
       "        [4.80194855],\n",
       "        [4.71849251],\n",
       "        [4.84688663],\n",
       "        [4.83083534],\n",
       "        [5.00095892],\n",
       "        [5.01379871]]),\n",
       " array([[5.08441687]]))"
      ]
     },
     "execution_count": 381,
     "metadata": {},
     "output_type": "execute_result"
    }
   ],
   "source": [
    "scalerX.inverse_transform(Xgen_train[0]), scalery.inverse_transform(ygen_train[0].reshape(-1,1)) "
   ]
  },
  {
   "cell_type": "code",
   "execution_count": null,
   "id": "dbbc8a85",
   "metadata": {},
   "outputs": [],
   "source": []
  },
  {
   "cell_type": "code",
   "execution_count": 382,
   "id": "1e5b8f11",
   "metadata": {},
   "outputs": [
    {
     "name": "stderr",
     "output_type": "stream",
     "text": [
      "c:\\GitRepos\\TC4-Thales\\tech_challenge_4\\training_model\\.venv\\Lib\\site-packages\\keras\\src\\layers\\rnn\\rnn.py:204: UserWarning: Do not pass an `input_shape`/`input_dim` argument to a layer. When using Sequential models, prefer using an `Input(shape)` object as the first layer in the model instead.\n",
      "  super().__init__(**kwargs)\n"
     ]
    }
   ],
   "source": [
    "from tensorflow.keras.models import Sequential\n",
    "from tensorflow.keras.layers import Dense, Dropout, LSTM\n",
    "from tensorflow.keras.regularizers import l1, l2, l1_l2\n",
    "from scikeras.wrappers import KerasRegressor\n",
    "from sklearn.model_selection import TimeSeriesSplit\n",
    "from sklearn.model_selection import GridSearchCV\n",
    "\n",
    "# Define the LSTM model\n",
    "# def custom_lstm(units_layer1, activation_layer1, seq_length, n_inputs, optim='adam', loss_fn='mse', activation_output='relu', dropout_layer1=0.2, dropout_layer2=0.1, kernel_reg_factor=0.01, recur_reg_factor=0.01, bias_reg_factor=0.01, units_layer2=None, activation_layer2=None):\n",
    "\n",
    "#     # if (units_layer2 is None) or (activation_layer2 is None):\n",
    "#     # print(\"layers = 1\")\n",
    "#     model = Sequential([\n",
    "#             LSTM(units=units_layer1, activation=activation_layer1, input_shape=(seq_length, n_inputs),\n",
    "#                 kernel_regularizer=l2(kernel_reg_factor), \n",
    "#                 recurrent_regularizer=l2(recur_reg_factor), \n",
    "#                 bias_regularizer=l2(bias_reg_factor),\n",
    "#                 recurrent_dropout=dropout_layer1),\n",
    "#         Dropout(rate=dropout_layer1),\n",
    "#         Dense(1, activation=activation_output)\n",
    "#     ])\n",
    "#     # else:\n",
    "#     #     print(\"layers = 2\")\n",
    "#     #     model = Sequential([\n",
    "#     #         LSTM(units=units_layer1, activation=activation_layer1, input_shape=(seq_length, n_inputs), \n",
    "#     #                 kernel_regularizer=l2(kernel_reg_factor), \n",
    "#     #                 recurrent_regularizer=l2(recur_reg_factor), \n",
    "#     #                 bias_regularizer=l2(bias_reg_factor),\n",
    "#     #                 recurrent_dropout=dropout_layer1,\n",
    "#     #                 return_sequences=True),\n",
    "#     #         Dropout(rate=dropout_layer1),\n",
    "#     #         LSTM(units=units_layer2, activation=activation_layer2,\n",
    "#     #                 kernel_regularizer=l2(kernel_reg_factor), \n",
    "#     #                 recurrent_regularizer=l2(recur_reg_factor), \n",
    "#     #                 bias_regularizer=l2(bias_reg_factor),\n",
    "#     #                 recurrent_dropout=dropout_layer1),\n",
    "#     #         Dropout(rate=dropout_layer2),\n",
    "#     #         Dense(1, activation=activation_output)\n",
    "#     #     ])\n",
    "\n",
    "#     model.compile(optimizer=optim, loss=loss_fn)\n",
    "\n",
    "#     return model\n",
    "\n",
    "tscv = TimeSeriesSplit(n_splits=2)\n",
    "\n",
    "def custom_lstm(units_layer1, optim='adam'):\n",
    "    model = Sequential([\n",
    "                LSTM(units=units_layer1, activation='relu', input_shape=(seq_length, n_inputs)),\n",
    "                Dense(1, activation='relu')\n",
    "    ])\n",
    "    model.compile(optimizer=optim, loss=loss_fn)\n",
    "    return model\n",
    "\n",
    "param_grid = {'units_layer1' : [50, 250]}\n",
    "\n",
    "model = KerasRegressor(model=custom_lstm, units_layer1=250, verbose=0)\n",
    "grid = GridSearchCV(estimator=model, param_grid=param_grid, n_jobs=-1, cv=tscv)\n",
    "\n",
    "Xgrid, ygrid = generator_train[0]\n",
    "\n",
    "grid_result = grid.fit(Xgrid, ygrid, epochs=n_epochs)\n"
   ]
  },
  {
   "cell_type": "code",
   "execution_count": 383,
   "id": "740d6e50",
   "metadata": {},
   "outputs": [
    {
     "name": "stdout",
     "output_type": "stream",
     "text": [
      "Best: -12.016387 using {'units_layer1': 250}\n",
      "-23.520751 (2.640004) with: {'units_layer1': 50}\n",
      "-12.016387 (8.864359) with: {'units_layer1': 250}\n"
     ]
    }
   ],
   "source": [
    "# summarize results\n",
    "print(\"Best: %f using %s\" % (grid_result.best_score_, grid_result.best_params_))\n",
    "means = grid_result.cv_results_['mean_test_score']\n",
    "stds = grid_result.cv_results_['std_test_score']\n",
    "params = grid_result.cv_results_['params']\n",
    "for mean, stdev, param in zip(means, stds, params):\n",
    "    print(\"%f (%f) with: %r\" % (mean, stdev, param))"
   ]
  },
  {
   "cell_type": "code",
   "execution_count": 384,
   "id": "00ba3aff",
   "metadata": {},
   "outputs": [],
   "source": [
    "opt_model = grid_result.best_estimator_"
   ]
  },
  {
   "cell_type": "code",
   "execution_count": 385,
   "id": "cc3ba79c",
   "metadata": {},
   "outputs": [],
   "source": [
    "# import matplotlib.pyplot as plt\n",
    "\n",
    "# # Plot the predicted prices\n",
    "# plt.plot(hist['loss'], label=\"Train Loss\")\n",
    "# plt.plot(hist['val_loss'], label=\"Test Loss\")\n",
    "# plt.xlabel(\"Epoch\")\n",
    "# plt.ylabel(\"MSE\")\n",
    "# plt.legend()\n",
    "# plt.show()"
   ]
  },
  {
   "cell_type": "code",
   "execution_count": 386,
   "id": "ab415aa1",
   "metadata": {},
   "outputs": [
    {
     "name": "stdout",
     "output_type": "stream",
     "text": [
      "[0.8217993  0.81523556 0.8152909  0.8154228  0.8186526  0.8224164\n",
      " 0.8275947  0.83183396 0.83575654 0.8421806  0.84917146 0.8579454\n",
      " 0.8645787  0.86666197 0.8656784  0.8657466  0.87029594 0.8738005\n",
      " 0.8748894  0.8771703  0.87801003 0.880506   0.8819496  0.8841869\n",
      " 0.8856158  0.88762355 0.8852199  0.8807514  0.8785365  0.876268  ]\n",
      "[1.54066988 1.56803827 1.57716107 1.59492668 1.59348599 1.596367\n",
      " 1.62613622 1.64246115 1.6703099  1.66454789 1.63237821 1.60741046\n",
      " 1.61701343 1.66118691 1.66070693 1.64342148 1.65590545 1.64726282\n",
      " 1.66406791 1.65926643 1.66886939 1.66550823 1.67319071 1.63621917\n",
      " 1.61269211 1.62709656 1.62469572 1.62277524 1.58628405]\n"
     ]
    }
   ],
   "source": [
    "X_gen_valid, y_gen_valid = generator_valid[0]\n",
    "y_pred_scaled = opt_model.predict(X_gen_valid).reshape(-1,)\n",
    "print(y_pred_scaled)\n",
    "print(y_gen_valid[1:].reshape(-1,))"
   ]
  },
  {
   "cell_type": "code",
   "execution_count": 387,
   "id": "b7ec7477",
   "metadata": {},
   "outputs": [
    {
     "name": "stdout",
     "output_type": "stream",
     "text": [
      "[[0.8217993  0.81523556 0.8152909  0.8154228  0.8186526  0.8224164\n",
      "  0.8275947  0.83183396 0.83575654 0.8421806  0.84917146 0.8579454\n",
      "  0.8645787  0.86666197 0.8656784  0.8657466  0.87029594 0.8738005\n",
      "  0.8748894  0.8771703  0.87801003 0.880506   0.8819496  0.8841869\n",
      "  0.8856158  0.88762355 0.8852199  0.8807514  0.8785365  0.876268  ]] [[1.53922957 1.54066988 1.56803827 1.57716107 1.59492668 1.59348599\n",
      "  1.596367   1.62613622 1.64246115 1.6703099  1.66454789 1.63237821\n",
      "  1.60741046 1.61701343 1.66118691 1.66070693 1.64342148 1.65590545\n",
      "  1.64726282 1.66406791 1.65926643 1.66886939 1.66550823 1.67319071\n",
      "  1.63621917 1.61269211 1.62709656 1.62469572 1.62277524 1.58628405]]\n"
     ]
    }
   ],
   "source": [
    "# y_pred = scalery.inverse_transform(y_pred_scaled.reshape(-1,1))\n",
    "# y_valid_f = scalery.inverse_transform(y_gen_valid.reshape(-1,1))\n",
    "y_pred = y_pred_scaled.reshape(-1,1)\n",
    "y_valid_f = y_gen_valid.reshape(-1,1)\n",
    "print(y_pred.T, y_valid_f.T)"
   ]
  },
  {
   "cell_type": "code",
   "execution_count": 388,
   "id": "d0eb49e7",
   "metadata": {},
   "outputs": [
    {
     "name": "stdout",
     "output_type": "stream",
     "text": [
      "RMSE: 0.7688\n",
      "R² Score: -962.0377\n"
     ]
    }
   ],
   "source": [
    "from sklearn.metrics import root_mean_squared_error, r2_score\n",
    "\n",
    "delay = 1\n",
    "offset = 0\n",
    "\n",
    "rmse = root_mean_squared_error(y_pred[delay:]+offset, y_valid_f[0:-delay])\n",
    "r2 = r2_score(y_pred[delay:]+offset, y_valid_f[0:-delay])\n",
    "\n",
    "print(f'RMSE: {rmse:.4f}')\n",
    "print(f'R² Score: {r2:.4f}')"
   ]
  },
  {
   "cell_type": "code",
   "execution_count": 389,
   "id": "48635f75",
   "metadata": {},
   "outputs": [
    {
     "data": {
      "image/png": "[encoded data removed]",
      "text/plain": [
       "<Figure size 640x480 with 1 Axes>"
      ]
     },
     "metadata": {},
     "output_type": "display_data"
    }
   ],
   "source": [
    "import matplotlib.pyplot as plt\n",
    "\n",
    "# Plot the predicted prices\n",
    "plt.plot(y_pred[delay:]+offset, label=\"Predicted Prices\")\n",
    "plt.plot(y_valid_f[:-delay], label=\"Real Prices\")\n",
    "plt.xlabel(\"Days\")\n",
    "plt.ylabel(\"Price\")\n",
    "plt.legend()\n",
    "plt.show()"
   ]
  },
  {
   "cell_type": "code",
   "execution_count": 390,
   "id": "303117a3",
   "metadata": {},
   "outputs": [],
   "source": [
    "# import mlflow\n",
    "# import mlflow.tensorflow\n",
    "\n",
    "# mlflow.set_tracking_uri(uri=\"http://127.0.0.1:7777\")\n",
    "# mlflow.set_experiment(\"LSTM Experiments\")\n",
    "\n",
    "# from sklearn.metrics import root_mean_squared_error, r2_score\n",
    "\n",
    "# mlflow.tensorflow.autolog()\n",
    "# with mlflow.start_run():\n",
    "#     mlflow.tensorflow.log_model(model, \"model\")\n",
    "\n",
    "#     # Calculate RMSE and R² score\n",
    "#     rmse = root_mean_squared_error(y_test, y_pred)\n",
    "#     r2 = r2_score(y_test, y_pred)\n",
    "\n",
    "#     print(f'RMSE: {rmse:.4f}')\n",
    "#     print(f'R² Score: {r2:.4f}')\n",
    "\n",
    "#     mlflow.log_metric(\"RMSE\", rmse)\n",
    "#     mlflow.log_metric(\"R2-Score\", r2)"
   ]
  },
  {
   "cell_type": "code",
   "execution_count": 391,
   "id": "c37b3e74",
   "metadata": {},
   "outputs": [],
   "source": [
    "# # Predict using the trained model\n",
    "# future_steps = 10  # Number of days to predict\n",
    "# future_data = data[-n_steps:].reshape(-1, n_steps, 1)\n",
    "# predicted_prices = []\n",
    "\n",
    "# for i in range(future_steps):\n",
    "#     prediction = model.predict(future_data)[0, 0]\n",
    "#     predicted_prices.append(prediction)\n",
    "#     future_data = np.roll(future_data, -1, axis=1)\n",
    "#     future_data[0, -1] = prediction\n",
    "\n",
    "# # Inverse transform the predicted prices to original scale\n",
    "# predicted_prices = scaler.inverse_transform(np.array(predicted_prices).reshape(-1, 1)).flatten()"
   ]
  },
  {
   "cell_type": "code",
   "execution_count": 392,
   "id": "d3f31871",
   "metadata": {},
   "outputs": [],
   "source": [
    "# import matplotlib.pyplot as plt\n",
    "\n",
    "# # Plot the predicted prices\n",
    "# plt.plot(predicted_prices, label=\"Predicted Prices\")\n",
    "# plt.xlabel(\"Days\")\n",
    "# plt.ylabel(\"Price\")\n",
    "# plt.legend()\n",
    "# plt.show()"
   ]
  }
 ],
 "metadata": {
  "kernelspec": {
   "display_name": ".venv",
   "language": "python",
   "name": "python3"
  },
  "language_info": {
   "codemirror_mode": {
    "name": "ipython",
    "version": 3
   },
   "file_extension": ".py",
   "mimetype": "text/x-python",
   "name": "python",
   "nbconvert_exporter": "python",
   "pygments_lexer": "ipython3",
   "version": "3.12.2"
  }
 },
 "nbformat": 4,
 "nbformat_minor": 5
}
