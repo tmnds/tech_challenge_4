{
 "cells": [
  {
   "cell_type": "code",
   "execution_count": 536,
   "id": "977008e9",
   "metadata": {},
   "outputs": [],
   "source": [
    "import yfinance as yf\n",
    "import pandas as pd\n",
    "\n",
    "def create_df_for_multi_companies(\n",
    "        raw_data_multiindex:pd.MultiIndex, \n",
    "        stock_var:str, \n",
    "        companies:list[str]):\n",
    "    \n",
    "    raw_values = {}\n",
    "    for company in companies:\n",
    "        # Transform MultiIndex DF into SingleIndex DF for each company with all prices (Open, Close... Adj. Close)\n",
    "        raw_data_by_company = raw_data_multiindex.xs(key=company, level='Ticker', axis=1, drop_level=False)\n",
    "        # Grab only the Datetime and the desired price (e.g., colums -> [Datetime | Open])\n",
    "        raw_data_series = raw_data_by_company[(stock_var,company)]\n",
    "        # Make a dictionary of type {company[x] : [Open Values 0, 1, ... N] ... }\n",
    "        raw_values[company] = raw_data_series.values\n",
    "    # Create 'df' Dataframe only with \"Datetime\" Column\n",
    "    df = pd.DataFrame({'Datetime':raw_data_series.index})\n",
    "    # Append all columns with values for each company, resulting in [Datetime | Company_values[x] ...]\n",
    "    df = df.assign(**raw_values)\n",
    "    return df\n",
    "\n",
    "def get_finance_df(\n",
    "        companies:str|list[str], \n",
    "        start_date:str, \n",
    "        end_date:str, \n",
    "        stock_var:str='Adj Close') -> pd.DataFrame:\n",
    "    \n",
    "    try:\n",
    "        # In case companies is a string, transform into a list of 1 object, like: ['company']\n",
    "        if not isinstance(companies,list):\n",
    "            companies:list[str] = [companies]\n",
    "        \n",
    "        # Download data using yfinance\n",
    "        raw_data_multiindex:pd.MultiIndex = yf.download(tickers=companies, start=start_date, end=end_date)\n",
    "\n",
    "        # Transform the raw data into a suitable DF\n",
    "        df = create_df_for_multi_companies(raw_data_multiindex, stock_var, companies)\n",
    "\n",
    "        return df\n",
    "    \n",
    "    except:\n",
    "            Exception(\"Unexpected error: something wrong occurred while creating the finance DF\")\n",
    "\n",
    "\n",
    "def split_train_test_valid_df(df, horizon_pred=1, seq_length=30, size_train_percent=0.75, size_test_percent=0.2):\n",
    "    N = len(df)-seq_length-horizon_pred\n",
    "    Ntrain = int(size_train_percent*N)\n",
    "    Ntest = int(size_test_percent*N)\n",
    "    \n",
    "    df_train = df.loc[0:Ntrain]\n",
    "    df_test = df.loc[Ntrain+1:Ntrain+Ntest]\n",
    "    df_valid = df.loc[Ntrain+Ntest+1:]\n",
    "\n",
    "    Nvalid = len(df_valid)\n",
    "    if (Nvalid < (seq_length+horizon_pred+1)):\n",
    "        raise ValueError(f\"\"\"At least (seq_length+horizon_pred+1) samples are needed for validation. You have seq_length={seq_length}, horizon_pred={horizon_pred} and Nvalid={Nvalid} samples, with Ntrain={Ntrain}, Ntest={Ntest} and N={N}. Try changing the prediction horizon, the sequence/window length, or increasing the number of samples\"\"\")\n",
    "\n",
    "    return (df_train, df_test, df_valid)\n",
    "\n",
    "def shift_drop_na_in_xy(df, company_inputs, company_output, horizon_pred):\n",
    "    new_df = pd.concat([df[company_inputs], df[company_output].rename(\"target\").shift(-horizon_pred)],axis='columns').dropna()\n",
    "    X = new_df[company_inputs].values\n",
    "    y = new_df[\"target\"].values\n",
    "    return X, y"
   ]
  },
  {
   "cell_type": "code",
   "execution_count": 537,
   "id": "8409b96a-3190-45d4-84e2-e0082a583b72",
   "metadata": {},
   "outputs": [
    {
     "name": "stderr",
     "output_type": "stream",
     "text": [
      "[*********************100%***********************]  1 of 1 completed"
     ]
    },
    {
     "name": "stdout",
     "output_type": "stream",
     "text": [
      "                      Datetime   PETR4.SA\n",
      "0    2020-01-02 00:00:00+00:00  10.621440\n",
      "1    2020-01-03 00:00:00+00:00  10.534945\n",
      "2    2020-01-06 00:00:00+00:00  10.659495\n",
      "3    2020-01-07 00:00:00+00:00  10.617979\n",
      "4    2020-01-08 00:00:00+00:00  10.552242\n",
      "...                        ...        ...\n",
      "1178 2024-09-24 00:00:00+00:00  36.779999\n",
      "1179 2024-09-25 00:00:00+00:00  37.049999\n",
      "1180 2024-09-26 00:00:00+00:00  36.250000\n",
      "1181 2024-09-27 00:00:00+00:00  36.110001\n",
      "1182 2024-09-30 00:00:00+00:00  36.009998\n",
      "\n",
      "[1183 rows x 2 columns]\n",
      "1\n"
     ]
    },
    {
     "name": "stderr",
     "output_type": "stream",
     "text": [
      "\n"
     ]
    }
   ],
   "source": [
    "# from feature_engineering import get_finance_df\n",
    "\n",
    "# Load dataset\n",
    "# company_inputs = ['PETR4.SA', 'BZ=F', '6L=F']\n",
    "company_inputs = ['PETR4.SA']\n",
    "company_output = 'PETR4.SA'\n",
    "end_date = '2024-10-01' \n",
    "start_date = '2020-01-01'\n",
    "stock_var = 'Adj Close'\n",
    "\n",
    "horizon_pred = 1\n",
    "seq_length = 30\n",
    "batch_size = 30\n",
    "train_ratio = 0.75\n",
    "test_ratio = 0.2\n",
    "\n",
    "units_layer1 = 200\n",
    "activation_layer1 = 'relu'\n",
    "dropout_layer1 = 0.2\n",
    "units_layer2 = None\n",
    "activation_layer2 = None if units_layer2 is None else 'relu'\n",
    "dropout_layer2 = None if units_layer2 is None else 0.1\n",
    "activation_output = 'relu'\n",
    "\n",
    "optim = 'adam'\n",
    "loss_fn = 'mse'\n",
    "n_epochs = 150\n",
    "\n",
    "df = get_finance_df(company_inputs, start_date, end_date, stock_var)\n",
    "df = df.fillna(0)\n",
    "\n",
    "n_inputs = len(company_inputs)\n",
    "\n",
    "print(df)\n",
    "print(n_inputs)\n"
   ]
  },
  {
   "cell_type": "code",
   "execution_count": 538,
   "id": "aca1ffe7",
   "metadata": {},
   "outputs": [],
   "source": [
    "df_train, df_test, df_valid = split_train_test_valid_df(df=df, \n",
    "    horizon_pred=horizon_pred, seq_length=seq_length, \n",
    "    size_train_percent=train_ratio, size_test_percent=test_ratio\n",
    "    )"
   ]
  },
  {
   "cell_type": "code",
   "execution_count": 539,
   "id": "b1482513",
   "metadata": {},
   "outputs": [],
   "source": [
    "X_train, y_train = shift_drop_na_in_xy(df_train, company_inputs, company_output, horizon_pred=horizon_pred)\n",
    "X_test, y_test = shift_drop_na_in_xy(df_test, company_inputs, company_output, horizon_pred=horizon_pred)\n",
    "X_valid, y_valid = shift_drop_na_in_xy(df_valid, company_inputs, company_output, horizon_pred=horizon_pred)"
   ]
  },
  {
   "cell_type": "code",
   "execution_count": 540,
   "id": "a11b45ba",
   "metadata": {},
   "outputs": [],
   "source": [
    "# Import necessary libraries\n",
    "from sklearn.preprocessing import MinMaxScaler\n",
    "\n",
    "# Normalize the Price column\n",
    "scaler = MinMaxScaler()\n",
    "scaled_X_train = scaler.fit_transform(X_train)\n",
    "scaled_y_train = scaler.fit_transform(y_train.reshape(-1, 1))\n",
    "\n",
    "scaled_X_test = scaler.fit_transform(X_test)\n",
    "scaled_y_test = scaler.fit_transform(y_test.reshape(-1, 1))\n",
    "\n",
    "scaled_X_valid = scaler.fit_transform(X_valid)\n",
    "scaled_y_valid = scaler.fit_transform(y_valid.reshape(-1, 1))\n",
    "\n",
    "from tensorflow.keras.preprocessing.sequence import TimeseriesGenerator\n",
    "\n",
    "# Initialize generator with multivariable input and single target\n",
    "generator = TimeseriesGenerator(scaled_X_train, scaled_y_train, length=seq_length, batch_size=batch_size)\n",
    "generator_test = TimeseriesGenerator(scaled_X_test, scaled_y_test, length=seq_length, batch_size=batch_size)\n",
    "generator_valid = TimeseriesGenerator(scaled_X_valid, scaled_y_valid, length=seq_length, batch_size=batch_size)\n"
   ]
  },
  {
   "cell_type": "code",
   "execution_count": null,
   "id": "1e5b8f11",
   "metadata": {},
   "outputs": [
    {
     "ename": "ModuleNotFoundError",
     "evalue": "No module named 'tensorflow.keras.wrappers'",
     "output_type": "error",
     "traceback": [
      "\u001b[1;31m---------------------------------------------------------------------------\u001b[0m",
      "\u001b[1;31mModuleNotFoundError\u001b[0m                       Traceback (most recent call last)",
      "Cell \u001b[1;32mIn[556], line 3\u001b[0m\n\u001b[0;32m      1\u001b[0m \u001b[38;5;28;01mfrom\u001b[39;00m \u001b[38;5;21;01mtensorflow\u001b[39;00m\u001b[38;5;21;01m.\u001b[39;00m\u001b[38;5;21;01mkeras\u001b[39;00m\u001b[38;5;21;01m.\u001b[39;00m\u001b[38;5;21;01mmodels\u001b[39;00m \u001b[38;5;28;01mimport\u001b[39;00m Sequential\n\u001b[0;32m      2\u001b[0m \u001b[38;5;28;01mfrom\u001b[39;00m \u001b[38;5;21;01mtensorflow\u001b[39;00m\u001b[38;5;21;01m.\u001b[39;00m\u001b[38;5;21;01mkeras\u001b[39;00m\u001b[38;5;21;01m.\u001b[39;00m\u001b[38;5;21;01mlayers\u001b[39;00m \u001b[38;5;28;01mimport\u001b[39;00m Dense, Dropout, LSTM\n\u001b[1;32m----> 3\u001b[0m \u001b[38;5;28;01mfrom\u001b[39;00m \u001b[38;5;21;01mtensorflow\u001b[39;00m\u001b[38;5;21;01m.\u001b[39;00m\u001b[38;5;21;01mkeras\u001b[39;00m\u001b[38;5;21;01m.\u001b[39;00m\u001b[38;5;21;01mwrappers\u001b[39;00m\u001b[38;5;21;01m.\u001b[39;00m\u001b[38;5;21;01mscikit_learn\u001b[39;00m \u001b[38;5;28;01mimport\u001b[39;00m KerasRegressor\n\u001b[0;32m      5\u001b[0m \u001b[38;5;66;03m# Define the LSTM model\u001b[39;00m\n\u001b[0;32m      7\u001b[0m \u001b[38;5;28;01mif\u001b[39;00m (units_layer2 \u001b[38;5;129;01mis\u001b[39;00m \u001b[38;5;28;01mNone\u001b[39;00m) \u001b[38;5;129;01mor\u001b[39;00m (activation_layer2 \u001b[38;5;129;01mis\u001b[39;00m \u001b[38;5;28;01mNone\u001b[39;00m):\n",
      "\u001b[1;31mModuleNotFoundError\u001b[0m: No module named 'tensorflow.keras.wrappers'"
     ]
    }
   ],
   "source": [
    "from tensorflow.keras.models import Sequential\n",
    "from tensorflow.keras.layers import Dense, Dropout, LSTM\n",
    "\n",
    "# Define the LSTM model\n",
    "\n",
    "if (units_layer2 is None) or (activation_layer2 is None):\n",
    "    print(\"layers = 1\")\n",
    "    model = Sequential([\n",
    "        LSTM(units=units_layer1, activation=activation_layer1, input_shape=(seq_length, n_inputs)),\n",
    "        Dropout(rate=dropout_layer1),\n",
    "        Dense(1, activation=activation_output)\n",
    "    ])\n",
    "else:\n",
    "    print(\"layers = 2\")\n",
    "    model = Sequential([\n",
    "        LSTM(units=units_layer1, activation=activation_layer1, input_shape=(seq_length, n_inputs), return_sequences=True),\n",
    "        Dropout(rate=dropout_layer1),\n",
    "        LSTM(units=units_layer2, activation=activation_layer2),\n",
    "        Dropout(rate=dropout_layer2),\n",
    "        Dense(1, activation=activation_output)\n",
    "    ])\n",
    "\n",
    "model.compile(optimizer=optim, loss=loss_fn)\n",
    "\n",
    "# Train the model\n",
    "model.fit(generator, epochs=n_epochs, validation_data=generator_test)\n"
   ]
  },
  {
   "cell_type": "code",
   "execution_count": 542,
   "id": "ab415aa1",
   "metadata": {},
   "outputs": [
    {
     "name": "stdout",
     "output_type": "stream",
     "text": [
      "\u001b[1m1/1\u001b[0m \u001b[32m━━━━━━━━━━━━━━━━━━━━\u001b[0m\u001b[37m\u001b[0m \u001b[1m1s\u001b[0m 546ms/step\n",
      "[0.5825784  0.60202354 0.6003721  0.6223932  0.63029724 0.648309\n",
      " 0.6540382  0.6674966  0.6141926  0.53066623 0.4950533  0.47698808\n",
      " 0.4705624  0.41392165 0.35457462 0.37435305 0.356459   0.25918525\n",
      " 0.17351787 0.15778406 0.16137119 0.22455943 0.25845367 0.3393664\n",
      " 0.38360837 0.45408767 0.53806525 0.6063709  0.6439983  0.6476768 ]\n",
      "[0.63171803 0.61518089 0.64825516 0.63667871 0.66313852 0.53580213\n",
      " 0.45477088 0.50438229 0.49611339 0.48949893 0.36381696 0.32578136\n",
      " 0.45146332 0.35720185 0.17363959 0.16867826 0.27120862 0.26294038\n",
      " 0.35885498 0.30262911 0.43988752 0.40185192 0.50934297 0.60525887\n",
      " 0.63171803 0.62179536 0.59698998 0.55895502 0.57820737]\n"
     ]
    }
   ],
   "source": [
    "X_gen_valid, y_gen_valid = generator_valid[0]\n",
    "y_pred_scaled = model.predict(X_gen_valid).reshape(-1,)\n",
    "print(y_pred_scaled)\n",
    "print(y_gen_valid[1:].reshape(-1,))"
   ]
  },
  {
   "cell_type": "code",
   "execution_count": 543,
   "id": "b7ec7477",
   "metadata": {},
   "outputs": [
    {
     "name": "stdout",
     "output_type": "stream",
     "text": [
      "[[37.145702 37.26003  37.25032  37.379795 37.42627  37.532173 37.56586\n",
      "  37.64499  37.33158  36.840473 36.63108  36.524864 36.487083 36.154057\n",
      "  35.805115 35.921402 35.816193 35.244255 34.74056  34.64805  34.669144\n",
      "  35.04067  35.239956 35.715694 35.975822 36.390217 36.883976 37.28559\n",
      "  37.50683  37.528458]] [[37.09431076 37.43462372 37.3373909  37.53185654 37.46379089 37.61936569\n",
      "  36.87067032 36.3942337  36.68593216 36.63731384 36.598423   35.85945511\n",
      "  35.63581848 36.37478638 35.82056046 34.74127579 34.7121048  35.31494904\n",
      "  35.26633453 35.8302803  35.49969101 36.30672455 36.08308792 36.71509933\n",
      "  37.27905273 37.43462372 37.37628174 37.23043442 37.00680161 37.11999893]]\n"
     ]
    }
   ],
   "source": [
    "y_pred = scaler.inverse_transform(y_pred_scaled.reshape(-1,1))\n",
    "y_valid_f = scaler.inverse_transform(y_gen_valid.reshape(-1,1))\n",
    "print(y_pred.T, y_valid_f.T)"
   ]
  },
  {
   "cell_type": "code",
   "execution_count": 554,
   "id": "d0eb49e7",
   "metadata": {},
   "outputs": [
    {
     "name": "stdout",
     "output_type": "stream",
     "text": [
      "RMSE: 0.2979\n",
      "R² Score: 0.9072\n"
     ]
    }
   ],
   "source": [
    "from sklearn.metrics import root_mean_squared_error, r2_score\n",
    "\n",
    "delay = 3\n",
    "\n",
    "rmse = root_mean_squared_error(y_pred[delay:], y_valid_f[0:-delay])\n",
    "r2 = r2_score(y_pred[delay:], y_valid_f[0:-delay])\n",
    "\n",
    "print(f'RMSE: {rmse:.4f}')\n",
    "print(f'R² Score: {r2:.4f}')"
   ]
  },
  {
   "cell_type": "code",
   "execution_count": 555,
   "id": "48635f75",
   "metadata": {},
   "outputs": [
    {
     "data": {
      "image/png": "[encoded data removed]",
      "text/plain": [
       "<Figure size 640x480 with 1 Axes>"
      ]
     },
     "metadata": {},
     "output_type": "display_data"
    }
   ],
   "source": [
    "import matplotlib.pyplot as plt\n",
    "\n",
    "# Plot the predicted prices\n",
    "plt.plot(y_pred[delay:], label=\"Predicted Prices\")\n",
    "plt.plot(y_valid_f[0:-delay], label=\"Real Prices\")\n",
    "plt.xlabel(\"Days\")\n",
    "plt.ylabel(\"Price\")\n",
    "plt.legend()\n",
    "plt.show()"
   ]
  },
  {
   "cell_type": "code",
   "execution_count": 546,
   "id": "303117a3",
   "metadata": {},
   "outputs": [],
   "source": [
    "# import mlflow\n",
    "# import mlflow.tensorflow\n",
    "\n",
    "# mlflow.set_tracking_uri(uri=\"http://127.0.0.1:7777\")\n",
    "# mlflow.set_experiment(\"LSTM Experiments\")\n",
    "\n",
    "# from sklearn.metrics import root_mean_squared_error, r2_score\n",
    "\n",
    "# mlflow.tensorflow.autolog()\n",
    "# with mlflow.start_run():\n",
    "#     mlflow.tensorflow.log_model(model, \"model\")\n",
    "\n",
    "#     # Calculate RMSE and R² score\n",
    "#     rmse = root_mean_squared_error(y_test, y_pred)\n",
    "#     r2 = r2_score(y_test, y_pred)\n",
    "\n",
    "#     print(f'RMSE: {rmse:.4f}')\n",
    "#     print(f'R² Score: {r2:.4f}')\n",
    "\n",
    "#     mlflow.log_metric(\"RMSE\", rmse)\n",
    "#     mlflow.log_metric(\"R2-Score\", r2)"
   ]
  },
  {
   "cell_type": "code",
   "execution_count": 547,
   "id": "c37b3e74",
   "metadata": {},
   "outputs": [],
   "source": [
    "# # Predict using the trained model\n",
    "# future_steps = 10  # Number of days to predict\n",
    "# future_data = data[-n_steps:].reshape(-1, n_steps, 1)\n",
    "# predicted_prices = []\n",
    "\n",
    "# for i in range(future_steps):\n",
    "#     prediction = model.predict(future_data)[0, 0]\n",
    "#     predicted_prices.append(prediction)\n",
    "#     future_data = np.roll(future_data, -1, axis=1)\n",
    "#     future_data[0, -1] = prediction\n",
    "\n",
    "# # Inverse transform the predicted prices to original scale\n",
    "# predicted_prices = scaler.inverse_transform(np.array(predicted_prices).reshape(-1, 1)).flatten()"
   ]
  },
  {
   "cell_type": "code",
   "execution_count": 548,
   "id": "d3f31871",
   "metadata": {},
   "outputs": [],
   "source": [
    "# import matplotlib.pyplot as plt\n",
    "\n",
    "# # Plot the predicted prices\n",
    "# plt.plot(predicted_prices, label=\"Predicted Prices\")\n",
    "# plt.xlabel(\"Days\")\n",
    "# plt.ylabel(\"Price\")\n",
    "# plt.legend()\n",
    "# plt.show()"
   ]
  }
 ],
 "metadata": {
  "kernelspec": {
   "display_name": ".venv",
   "language": "python",
   "name": "python3"
  },
  "language_info": {
   "codemirror_mode": {
    "name": "ipython",
    "version": 3
   },
   "file_extension": ".py",
   "mimetype": "text/x-python",
   "name": "python",
   "nbconvert_exporter": "python",
   "pygments_lexer": "ipython3",
   "version": "3.12.2"
  }
 },
 "nbformat": 4,
 "nbformat_minor": 5
}
